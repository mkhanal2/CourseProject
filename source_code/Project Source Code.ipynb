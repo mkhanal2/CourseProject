{
 "cells": [
  {
   "cell_type": "code",
   "execution_count": 1,
   "metadata": {},
   "outputs": [
    {
     "data": {
      "text/plain": [
       "'\\nUse this cell to install any pacakges that you may need. Cell below this has import for all the modules/pacakages that\\nis used. So, please use command (pip) as commented above to install any packages that you need. \\n'"
      ]
     },
     "execution_count": 1,
     "metadata": {},
     "output_type": "execute_result"
    }
   ],
   "source": [
    "#pip install emoji\n",
    "#pip install autocorrect\n",
    "\"\"\"\n",
    "Use this cell to install any pacakges that you may need. Cell below this has import for all the modules/pacakages that\n",
    "is used. So, please use command (pip) as commented above to install any packages that you need. \n",
    "\"\"\"\n"
   ]
  },
  {
   "cell_type": "code",
   "execution_count": 2,
   "metadata": {},
   "outputs": [
    {
     "name": "stderr",
     "output_type": "stream",
     "text": [
      "Using TensorFlow backend.\n",
      "[nltk_data] Downloading package punkt to\n",
      "[nltk_data]     C:\\Users\\Kripa\\AppData\\Roaming\\nltk_data...\n",
      "[nltk_data]   Package punkt is already up-to-date!\n",
      "[nltk_data] Downloading package stopwords to\n",
      "[nltk_data]     C:\\Users\\Kripa\\AppData\\Roaming\\nltk_data...\n",
      "[nltk_data]   Package stopwords is already up-to-date!\n",
      "[nltk_data] Downloading package wordnet to\n",
      "[nltk_data]     C:\\Users\\Kripa\\AppData\\Roaming\\nltk_data...\n",
      "[nltk_data]   Package wordnet is already up-to-date!\n"
     ]
    },
    {
     "data": {
      "text/plain": [
       "True"
      ]
     },
     "execution_count": 2,
     "metadata": {},
     "output_type": "execute_result"
    }
   ],
   "source": [
    "\"\"\"\n",
    "This cell is where all the pacakges required for the project is imported.  \n",
    "\"\"\"\n",
    "\n",
    "import numpy as np\n",
    "import pandas as pd\n",
    "from keras import Model\n",
    "from sklearn.feature_extraction.text import CountVectorizer\n",
    "from keras.preprocessing.text import Tokenizer\n",
    "from keras.preprocessing.sequence import pad_sequences\n",
    "from keras.models import Sequential\n",
    "from keras.layers import Input, concatenate, Dense, Embedding, LSTM, SpatialDropout1D, Bidirectional, TimeDistributed, Convolution1D, MaxPooling1D, Dropout\n",
    "from sklearn.model_selection import train_test_split\n",
    "from keras.utils.np_utils import to_categorical\n",
    "import re\n",
    "import os\n",
    "import nltk\n",
    "from nltk.tokenize import word_tokenize\n",
    "from nltk.corpus import stopwords\n",
    "from nltk.stem import WordNetLemmatizer\n",
    "from nltk.stem.porter import PorterStemmer\n",
    "import string\n",
    "from autocorrect import Speller\n",
    "from sklearn.feature_extraction.text import TfidfVectorizer\n",
    "import emoji\n",
    "import matplotlib.pyplot as plt\n",
    "\n",
    "nltk.download('punkt')\n",
    "nltk.download('stopwords')\n",
    "nltk.download('wordnet')"
   ]
  },
  {
   "cell_type": "code",
   "execution_count": 3,
   "metadata": {},
   "outputs": [],
   "source": [
    "\"\"\"\n",
    "This cell is where I have defined some functions that will be used later for our data preperation.\n",
    "--------------------------------------------------------------------------------------------------\n",
    "get_hash_tags --> This function is used to get any has-tag that are part of our responce or context.\n",
    "get_emoji --> This function is used to get any emoji related to the response or context that we have. \n",
    "clean_text --> This function is used to clean our input text. This will remove the junk characters, \n",
    "               remove some mentions which are not required and apply the Lemmatizer to clean those text.  \n",
    "\"\"\"\n",
    "\n",
    "lemmatizer = WordNetLemmatizer();\n",
    "stemmer = PorterStemmer();\n",
    "spell = Speller(lang='en');\n",
    "stopword = stopwords.words('english');\n",
    "\n",
    "def get_hash_tags(txt):\n",
    "    hastags = re.findall(r\"#(\\w+)\", txt)\n",
    "    return hastags\n",
    "\n",
    "def get_emoji(txt):\n",
    "    return ' '.join(emoji.UNICODE_EMOJI[c] for c in txt if c in emoji.UNICODE_EMOJI)\n",
    "\n",
    "def clean_text(txt):\n",
    "    bef_txt = txt\n",
    "    txt = txt.replace('@USER', '').lstrip().rstrip()\n",
    "    txt = txt.lower()\n",
    "    txt = re.sub(r\"#(\\w+)\", \"\", txt)\n",
    "    txt = re.sub(r\"@(\\w+)\", \"\", txt)\n",
    "    txt = re.sub(r\"i'm\", \"i am\", txt)\n",
    "    txt = re.sub(r\"he's\", \"he is\",txt)\n",
    "    txt = re.sub(r\"she's\", \"she is\", txt)\n",
    "    txt = re.sub(r\"i'm\", \"i am\", txt)\n",
    "    txt = re.sub(r\"he's\", \"he is\",txt)\n",
    "    txt = re.sub(r\"she's\", \"she is\", txt)\n",
    "    txt = re.sub(r\"that's\", \"that is\", txt)\n",
    "    txt = re.sub(r\"what's\", \"what is\", txt)\n",
    "    txt = re.sub(r\"where's\", \"where is\", txt)\n",
    "    txt = re.sub(r\"\\'ll\", \" will\", txt)\n",
    "    txt = re.sub(r\"\\'ve\", \" have\", txt)\n",
    "    txt = re.sub(r\"\\'re\", \" are\", txt)\n",
    "    txt = re.sub(r\"\\'d\", \" would\", txt)\n",
    "    txt = re.sub(r\"\\'ve\", \" have\", txt)\n",
    "    txt = re.sub(r\"won't\", \"will not\", txt)\n",
    "    txt = re.sub(r\"don't\", \"do not\", txt)\n",
    "    txt = re.sub(r\"did't\", \"did not\", txt)\n",
    "    txt = re.sub(r\"did'nt\", \"did not\", txt)\n",
    "    txt = re.sub(r\"can't\", \"can not\", txt)\n",
    "    txt = re.sub(r\"it's\", \"it is\", txt)\n",
    "    txt = re.sub(r\"couldn't\", \"could not\", txt)\n",
    "    txt = re.sub(r\"have't\", \"have not\", txt)\n",
    "    txt = re.sub('[^a-zA-z0-9\\s]','',txt)\n",
    "    txt = re.sub(r'\\d+', '',txt)\n",
    "    txt = re.sub(r\"[,.\\\"\\'!@#$%^&*(){}?/;`~:<>+=-]\", \"\", txt)\n",
    "    \n",
    "    txt = ' '.join([y for y in txt.split() if not y in string.punctuation])\n",
    "    txt = ' '.join([y for y in txt.split() if not y in stopword])\n",
    "    txt = ' '.join([lemmatizer.lemmatize(y) for y in txt.split()])\n",
    "    #txt = ' '.join([stemmer.stem(y) for y in txt.split()]) -- Not using stemmer for this project.\n",
    "    txt = txt.lstrip().rstrip()\n",
    "\n",
    "    return txt\n",
    "    "
   ]
  },
  {
   "cell_type": "code",
   "execution_count": 4,
   "metadata": {},
   "outputs": [
    {
     "name": "stdout",
     "output_type": "stream",
     "text": [
      "Training rows:  5000\n"
     ]
    }
   ],
   "source": [
    "\"\"\"\n",
    "This cell is where we read the training data from train.jsonl\n",
    "Please make sure the train.jsonl is inside the data folder , where data folder is in same folder as this source code.\n",
    "\n",
    "Here we read the data file , apply the previous function like get_emoji, clean_text to clean-up our data for training. \n",
    "As, we are using Pandas to read our training data, we override the columns with cleaned data.\n",
    "OR we are introduing new columns for the emoji related data or has-tags. \n",
    "\n",
    "We have differnt columns defined for response and context.\n",
    "Context is treated as last element of the list while read from the file. \n",
    "\"\"\"\n",
    "\n",
    "data = pd.read_json (r'.\\data\\train.jsonl',encoding='UTF-8', lines=True)\n",
    "data['response_ht'] = data['response'].apply(lambda x: get_hash_tags(x))\n",
    "data['response_emoji'] = data['response'].apply(lambda x: get_emoji(x))\n",
    "data['response'] = data['response'].apply(lambda x: clean_text(x))\n",
    "\n",
    "data['cntx'] = data['context'].apply(lambda x: x[len(x)-1] if (len(x) > 0) else '')\n",
    "data['cntx_ht'] = data['cntx'].apply(lambda x: get_hash_tags(x))\n",
    "data['cntx_emoji'] = data['cntx'].apply(lambda x: get_emoji(x))\n",
    "data['cntx'] = data['cntx'].apply(lambda x: clean_text(x))\n",
    "\n",
    "data['is_sarcastic'] = data['label'].apply(lambda x: 1 if(x == \"SARCASM\") else 0)\n",
    "\n",
    "data['overall'] = data['cntx'] +\" \"+ data['response']\n",
    "print(\"Training rows: \",len(data))"
   ]
  },
  {
   "cell_type": "code",
   "execution_count": 5,
   "metadata": {},
   "outputs": [
    {
     "name": "stdout",
     "output_type": "stream",
     "text": [
      "Prediction to be made for rows:  1800\n"
     ]
    }
   ],
   "source": [
    "\"\"\"\n",
    "This cell is similar to cell above, in previous cell we were cleaning data and preparing data for training data-set.\n",
    "In this one we are doing the same thing for test data set. This is the data-set for which we need to predict \n",
    "our results for.\n",
    "\"\"\"\n",
    "\n",
    "pred_data = pd.read_json (r'.\\data\\test.jsonl',encoding='UTF-8', lines=True)\n",
    "\n",
    "pred_data['response_ht'] = pred_data['response'].apply(lambda x: get_hash_tags(x))\n",
    "pred_data['response_emoji'] = pred_data['response'].apply(lambda x: get_emoji(x))\n",
    "pred_data['response'] = pred_data['response'].apply(lambda x: clean_text(x))\n",
    "\n",
    "pred_data['cntx'] = pred_data['context'].apply(lambda x: x[len(x)-1] if (len(x) > 0) else '')\n",
    "pred_data['cntx_ht'] = pred_data['cntx'].apply(lambda x: get_hash_tags(x))\n",
    "pred_data['cntx_emoji'] = pred_data['cntx'].apply(lambda x: get_emoji(x))\n",
    "pred_data['cntx'] = pred_data['cntx'].apply(lambda x: clean_text(x))\n",
    "\n",
    "pred_data['overall'] = pred_data['cntx'] + \" \" + pred_data['response']\n",
    "print(\"Prediction to be made for rows: \",len(pred_data))"
   ]
  },
  {
   "cell_type": "code",
   "execution_count": 6,
   "metadata": {},
   "outputs": [
    {
     "name": "stdout",
     "output_type": "stream",
     "text": [
      "Number of words in vocabulary:  17980\n"
     ]
    }
   ],
   "source": [
    "\"\"\"\n",
    "This is cell, where we build our word vocabulary. We are going to utilize both training and test data-set to build\n",
    "our vocabulary of words. We will iteriate through each data-point (overall = response + context), \n",
    "and get each word logged in our vocabulary data-set.\n",
    "\"\"\"\n",
    "\n",
    "vocabulary = {}\n",
    "for text in data['overall']:\n",
    "    for word in text.split(\" \"):\n",
    "        if word in vocabulary:\n",
    "            vocabulary[word] = vocabulary[word] + 1\n",
    "        else:\n",
    "            vocabulary[word] = 1\n",
    "for text in pred_data['overall']:\n",
    "    for word in text.split(\" \"):\n",
    "        if word in vocabulary:\n",
    "            vocabulary[word] = vocabulary[word] + 1\n",
    "        else:\n",
    "            vocabulary[word] = 1\n",
    "print(\"Number of words in vocabulary: \", len(vocabulary))\n"
   ]
  },
  {
   "cell_type": "code",
   "execution_count": 7,
   "metadata": {},
   "outputs": [
    {
     "data": {
      "text/plain": [
       "context           5881\n",
       "overall            397\n",
       "cntx               246\n",
       "response           209\n",
       "cntx_emoji         184\n",
       "response_emoji     184\n",
       "response_ht         71\n",
       "cntx_ht             69\n",
       "label               11\n",
       "is_sarcastic         1\n",
       "dtype: int64"
      ]
     },
     "execution_count": 7,
     "metadata": {},
     "output_type": "execute_result"
    }
   ],
   "source": [
    "\"\"\"\n",
    "This code below finds out the max lenght of each columns that we had built previoulsy. We are mainly looking \n",
    "for the response and the context column for figuring out the vector lenght. \n",
    "\"\"\"\n",
    "\n",
    "data_columns_len = {c: data[c].map(lambda x: len(str(x))).max() for c in data.columns}\n",
    "pd.Series(data_columns_len).sort_values(ascending =False)"
   ]
  },
  {
   "cell_type": "code",
   "execution_count": 8,
   "metadata": {},
   "outputs": [
    {
     "name": "stdout",
     "output_type": "stream",
     "text": [
      "5000\n",
      "200\n",
      "250\n"
     ]
    }
   ],
   "source": [
    "\"\"\"\n",
    "Below code builds the input vector's. That is done by first converting words into integer's uisng tokenizer, \n",
    "and then making sure that all the vector are of equal lenght by padding zero's for shorter vectors. \n",
    "This is done for both resonse and context vector build.\n",
    "\"\"\"\n",
    "\n",
    "max_features = len(vocabulary) + 1\n",
    "vec_len = 200\n",
    "tokenizer = Tokenizer(num_words=max_features, split=' ')\n",
    "tokenizer.fit_on_texts(vocabulary.keys())\n",
    "word_index = tokenizer.word_index\n",
    "\n",
    "X = tokenizer.texts_to_sequences(data['response'].values)\n",
    "X = pad_sequences(X, vec_len)\n",
    "X_cntx = tokenizer.texts_to_sequences(data['cntx'].values)\n",
    "X_cntx = pad_sequences(X_cntx, 250)\n",
    "\n",
    "print(len(X))\n",
    "print(len(X[0]))\n",
    "print(len(X_cntx[0]))"
   ]
  },
  {
   "cell_type": "code",
   "execution_count": 9,
   "metadata": {},
   "outputs": [
    {
     "name": "stdout",
     "output_type": "stream",
     "text": [
      "Found 1193514 word vectors.\n"
     ]
    }
   ],
   "source": [
    "\"\"\"\n",
    "Below code is used to read the pre-trained glove model for twitter. This is a public data-set that can be used\n",
    "for word to vector representation. I have used GloVe for the same. \n",
    "\"\"\"\n",
    "\n",
    "embeddings_index = {}\n",
    "embedding_dim = 25\n",
    "GLOVE_DIR = \".\\data\"\n",
    "f = open(os.path.join(GLOVE_DIR, 'glove.twitter.27B.25d.txt'), encoding = \"utf-8\")\n",
    "for line in f:\n",
    "    values = line.split()\n",
    "    word = values[0]\n",
    "    coefs = np.asarray(values[1:], dtype='float32')\n",
    "    embeddings_index[word] = coefs\n",
    "f.close()\n",
    "\n",
    "print('Found %s word vectors.' % len(embeddings_index))"
   ]
  },
  {
   "cell_type": "code",
   "execution_count": 10,
   "metadata": {},
   "outputs": [
    {
     "name": "stdout",
     "output_type": "stream",
     "text": [
      "Rejected: 1930 Accepted: 16045 Reject Corrected: 0 Reject NC: 1930\n"
     ]
    }
   ],
   "source": [
    "\"\"\"\n",
    "After reading the GloVe vectore, code below builds the embedding matrix and embedding layer. Where it goes through all the\n",
    "words in the vocubaluary set and assigns the vector for each word using the GloVe vector. \n",
    "After doing that it builds the embedding layer that will be used in the model build later.\n",
    "\"\"\"\n",
    "\n",
    "embedding_matrix = np.zeros((len(word_index) + 1, embedding_dim))\n",
    "accp = 0\n",
    "rej = 0\n",
    "rej_corr = 0\n",
    "rej_not_corr = 0\n",
    "for word, i in word_index.items():\n",
    "    embedding_vector = embeddings_index.get(word)\n",
    "    if embedding_vector is not None:\n",
    "        accp+=1\n",
    "        embedding_matrix[i] = embedding_vector\n",
    "    else:\n",
    "        rej+=1\n",
    "        #corr_word = spell(word)\n",
    "        #embedding_vector = embeddings_index.get(corr_word)\n",
    "        if embedding_vector is not None:\n",
    "            print(rej, word, corr_word)\n",
    "            rej_corr+=1\n",
    "            embedding_matrix[i] = embedding_vector\n",
    "        else:\n",
    "            rej_not_corr+=1\n",
    "print(\"Rejected:\" , rej, \"Accepted:\", accp, \"Reject Corrected:\", rej_corr, \"Reject NC:\", rej_not_corr)\n",
    "embedding_layer = Embedding(len(word_index) + 1,\n",
    "                            embedding_dim,\n",
    "                            weights=[embedding_matrix],\n",
    "                            input_length=X.shape[1],\n",
    "                            trainable=False)\n",
    "embedding_layer_cntx = Embedding(len(word_index) + 1,\n",
    "                            embedding_dim,\n",
    "                            weights=[embedding_matrix],\n",
    "                            input_length=X_cntx.shape[1],\n",
    "                            trainable=False)"
   ]
  },
  {
   "cell_type": "code",
   "execution_count": 11,
   "metadata": {},
   "outputs": [
    {
     "name": "stdout",
     "output_type": "stream",
     "text": [
      "Summary of the built model...\n",
      "Model: \"sequential_1\"\n",
      "_________________________________________________________________\n",
      "Layer (type)                 Output Shape              Param #   \n",
      "=================================================================\n",
      "embedding_1 (Embedding)      (None, 200, 25)           449400    \n",
      "_________________________________________________________________\n",
      "bidirectional_1 (Bidirection (None, 256)               157696    \n",
      "_________________________________________________________________\n",
      "dense_1 (Dense)              (None, 1)                 257       \n",
      "=================================================================\n",
      "Total params: 607,353\n",
      "Trainable params: 157,953\n",
      "Non-trainable params: 449,400\n",
      "_________________________________________________________________\n",
      "None\n"
     ]
    }
   ],
   "source": [
    "\"\"\"\n",
    "This code below builds the first model (Model-1) using the LSTM network. This model takes only the response as the input.\n",
    "\"\"\"\n",
    "\n",
    "#Only response model.\n",
    "hidden_units = 128\n",
    "\n",
    "model_1 = Sequential()\n",
    "model_1.add(embedding_layer)\n",
    "model_1.add(Bidirectional(LSTM(hidden_units, dropout=0.2, recurrent_dropout=0.2, return_sequences=False)))\n",
    "model_1.add(Dense(1, activation='sigmoid'))\n",
    "model_1.compile(loss='binary_crossentropy', optimizer='adam', metrics=['acc'])\n",
    "print('Summary of the built model...')\n",
    "print(model_1.summary())"
   ]
  },
  {
   "cell_type": "code",
   "execution_count": 12,
   "metadata": {},
   "outputs": [
    {
     "name": "stdout",
     "output_type": "stream",
     "text": [
      "Model: \"model_3\"\n",
      "__________________________________________________________________________________________________\n",
      "Layer (type)                    Output Shape         Param #     Connected to                     \n",
      "==================================================================================================\n",
      "input_1 (InputLayer)            (None, 200)          0                                            \n",
      "__________________________________________________________________________________________________\n",
      "input_2 (InputLayer)            (None, 250)          0                                            \n",
      "__________________________________________________________________________________________________\n",
      "embedding_3 (Embedding)         (None, 200, 25)      449400      input_1[0][0]                    \n",
      "__________________________________________________________________________________________________\n",
      "embedding_4 (Embedding)         (None, 250, 25)      449400      input_2[0][0]                    \n",
      "__________________________________________________________________________________________________\n",
      "bidirectional_2 (Bidirectional) (None, 256)          157696      embedding_3[0][0]                \n",
      "__________________________________________________________________________________________________\n",
      "bidirectional_3 (Bidirectional) (None, 256)          157696      embedding_4[0][0]                \n",
      "__________________________________________________________________________________________________\n",
      "concatenate_1 (Concatenate)     (None, 512)          0           bidirectional_2[0][0]            \n",
      "                                                                 bidirectional_3[0][0]            \n",
      "__________________________________________________________________________________________________\n",
      "dense_2 (Dense)                 (None, 128)          65664       concatenate_1[0][0]              \n",
      "__________________________________________________________________________________________________\n",
      "dense_3 (Dense)                 (None, 1)            129         dense_2[0][0]                    \n",
      "==================================================================================================\n",
      "Total params: 1,279,985\n",
      "Trainable params: 381,185\n",
      "Non-trainable params: 898,800\n",
      "__________________________________________________________________________________________________\n",
      "None\n"
     ]
    }
   ],
   "source": [
    "\"\"\"\n",
    "This code below builds the second model (Model-2) using the LSTM network. This model takes both\n",
    "response and context as the input. So, this has two set's of LSTM model combined later for the output.\n",
    "\"\"\"\n",
    "\n",
    "hidden_units = 128\n",
    "Response_In = Input(shape=(X.shape[1],))\n",
    "Response = Embedding(len(word_index) + 1, embedding_dim, weights=[embedding_matrix], input_length=X.shape[1],\n",
    "                            trainable=False)(Response_In)\n",
    "Response = Bidirectional(LSTM(hidden_units, dropout=0.2, recurrent_dropout=0.2, return_sequences=False))(Response)\n",
    "Response_Model = Model(inputs=Response_In, outputs=Response)\n",
    "\n",
    "Cntx_In = Input(shape=(X_cntx.shape[1],))\n",
    "Cntx = Embedding(len(word_index) + 1, embedding_dim, weights=[embedding_matrix],input_length=X_cntx.shape[1],\n",
    "                            trainable=False)(Cntx_In)\n",
    "Cntx = Bidirectional(LSTM(hidden_units, dropout=0.2, recurrent_dropout=0.2, return_sequences=False))(Cntx)\n",
    "Cntx_Model = Model(inputs=Cntx_In, outputs=Cntx)\n",
    "combined = concatenate([Response_Model.output, Cntx_Model.output], axis=-1)\n",
    "combined = Dense(hidden_units, kernel_initializer=\"he_normal\", activation='sigmoid')(combined)\n",
    "y = Dense(1, activation='sigmoid')(combined)\n",
    "model_2 = Model(inputs=[Response_Model.input, Cntx_Model.input], outputs=y)\n",
    "model_2.compile(loss = 'binary_crossentropy', optimizer='adam',metrics = ['accuracy'])\n",
    "print(model_2.summary())"
   ]
  },
  {
   "cell_type": "code",
   "execution_count": 13,
   "metadata": {},
   "outputs": [
    {
     "name": "stdout",
     "output_type": "stream",
     "text": [
      "(4000, 200) (4000,)\n",
      "(1000, 200) (1000,)\n"
     ]
    }
   ],
   "source": [
    "\"\"\"\n",
    "This code below is used for splitting the traing data for training and test (validation).\n",
    "\"\"\"\n",
    "\n",
    "Y = data['is_sarcastic'].values\n",
    "X_train, X_test, X_cntx_train, X_cntx_test, Y_train, Y_test, data_train, data_test = train_test_split(X, \n",
    "                                                                X_cntx, Y, data, test_size = 0.2, random_state = 42)\n",
    "print(X_train.shape,Y_train.shape)\n",
    "print(X_test.shape,Y_test.shape)"
   ]
  },
  {
   "cell_type": "code",
   "execution_count": 14,
   "metadata": {},
   "outputs": [
    {
     "name": "stdout",
     "output_type": "stream",
     "text": [
      "Train on 5000 samples, validate on 1000 samples\n",
      "Epoch 1/50\n",
      " - 101s - loss: 0.6106 - acc: 0.6588 - val_loss: 0.5712 - val_acc: 0.6840\n",
      "Epoch 2/50\n",
      " - 94s - loss: 0.5771 - acc: 0.6910 - val_loss: 0.5614 - val_acc: 0.6930\n",
      "Epoch 3/50\n",
      " - 97s - loss: 0.5685 - acc: 0.6940 - val_loss: 0.5547 - val_acc: 0.6970\n",
      "Epoch 4/50\n",
      " - 99s - loss: 0.5643 - acc: 0.7006 - val_loss: 0.5444 - val_acc: 0.7080\n",
      "Epoch 5/50\n",
      " - 92s - loss: 0.5787 - acc: 0.6934 - val_loss: 0.5473 - val_acc: 0.6970\n",
      "Epoch 6/50\n",
      " - 93s - loss: 0.5624 - acc: 0.7010 - val_loss: 0.5442 - val_acc: 0.7100\n",
      "Epoch 7/50\n",
      " - 100s - loss: 0.5537 - acc: 0.7098 - val_loss: 0.5353 - val_acc: 0.7160\n",
      "Epoch 8/50\n",
      " - 95s - loss: 0.5528 - acc: 0.7076 - val_loss: 0.5337 - val_acc: 0.7200\n",
      "Epoch 9/50\n",
      " - 88s - loss: 0.5496 - acc: 0.7114 - val_loss: 0.5237 - val_acc: 0.7300\n",
      "Epoch 10/50\n",
      " - 89s - loss: 0.5422 - acc: 0.7142 - val_loss: 0.5122 - val_acc: 0.7480\n",
      "Epoch 11/50\n",
      " - 94s - loss: 0.5391 - acc: 0.7168 - val_loss: 0.5116 - val_acc: 0.7460\n",
      "Epoch 12/50\n",
      " - 91s - loss: 0.5301 - acc: 0.7308 - val_loss: 0.5021 - val_acc: 0.7560\n",
      "Epoch 13/50\n",
      " - 90s - loss: 0.5281 - acc: 0.7310 - val_loss: 0.4969 - val_acc: 0.7630\n",
      "Epoch 14/50\n",
      " - 92s - loss: 0.5220 - acc: 0.7256 - val_loss: 0.4925 - val_acc: 0.7580\n",
      "Epoch 15/50\n",
      " - 92s - loss: 0.5180 - acc: 0.7330 - val_loss: 0.4819 - val_acc: 0.7640\n",
      "Epoch 16/50\n",
      " - 94s - loss: 0.5194 - acc: 0.7340 - val_loss: 0.4793 - val_acc: 0.7670\n",
      "Epoch 17/50\n",
      " - 92s - loss: 0.5069 - acc: 0.7460 - val_loss: 0.4629 - val_acc: 0.7810\n",
      "Epoch 18/50\n",
      " - 91s - loss: 0.5049 - acc: 0.7516 - val_loss: 0.4585 - val_acc: 0.7860\n",
      "Epoch 19/50\n",
      " - 105s - loss: 0.4939 - acc: 0.7622 - val_loss: 0.4419 - val_acc: 0.7930\n",
      "Epoch 20/50\n",
      " - 104s - loss: 0.5303 - acc: 0.7312 - val_loss: 0.6140 - val_acc: 0.6380\n",
      "Epoch 21/50\n",
      " - 121s - loss: 0.5994 - acc: 0.6712 - val_loss: 0.5411 - val_acc: 0.7130\n",
      "Epoch 22/50\n",
      " - 94s - loss: 0.5540 - acc: 0.7074 - val_loss: 0.5253 - val_acc: 0.7240\n",
      "Epoch 23/50\n",
      " - 119s - loss: 0.5290 - acc: 0.7220 - val_loss: 0.4868 - val_acc: 0.7510\n",
      "Epoch 24/50\n",
      " - 142s - loss: 0.5183 - acc: 0.7366 - val_loss: 0.4780 - val_acc: 0.7660\n",
      "Epoch 25/50\n",
      " - 139s - loss: 0.5061 - acc: 0.7452 - val_loss: 0.4655 - val_acc: 0.7730\n",
      "Epoch 26/50\n",
      " - 137s - loss: 0.5023 - acc: 0.7416 - val_loss: 0.4497 - val_acc: 0.7820\n",
      "Epoch 27/50\n",
      " - 140s - loss: 0.4954 - acc: 0.7558 - val_loss: 0.4405 - val_acc: 0.8050\n",
      "Epoch 28/50\n",
      " - 137s - loss: 0.4903 - acc: 0.7576 - val_loss: 0.4234 - val_acc: 0.8020\n",
      "Epoch 29/50\n",
      " - 137s - loss: 0.4768 - acc: 0.7588 - val_loss: 0.4240 - val_acc: 0.8020\n",
      "Epoch 30/50\n",
      " - 135s - loss: 0.4765 - acc: 0.7606 - val_loss: 0.4109 - val_acc: 0.8180\n",
      "Epoch 31/50\n",
      " - 139s - loss: 0.4717 - acc: 0.7672 - val_loss: 0.4068 - val_acc: 0.8220\n",
      "Epoch 32/50\n",
      " - 137s - loss: 0.4645 - acc: 0.7716 - val_loss: 0.3981 - val_acc: 0.8220\n",
      "Epoch 33/50\n",
      " - 137s - loss: 0.4610 - acc: 0.7786 - val_loss: 0.3949 - val_acc: 0.8360\n",
      "Epoch 34/50\n",
      " - 130s - loss: 0.4623 - acc: 0.7792 - val_loss: 0.3758 - val_acc: 0.8450\n",
      "Epoch 35/50\n",
      " - 131s - loss: 0.4478 - acc: 0.7812 - val_loss: 0.3805 - val_acc: 0.8390\n",
      "Epoch 36/50\n",
      " - 141s - loss: 0.4389 - acc: 0.7878 - val_loss: 0.3687 - val_acc: 0.8410\n",
      "Epoch 37/50\n",
      " - 142s - loss: 0.4337 - acc: 0.7864 - val_loss: 0.3582 - val_acc: 0.8510\n",
      "Epoch 38/50\n",
      " - 137s - loss: 0.4331 - acc: 0.7924 - val_loss: 0.3451 - val_acc: 0.8480\n",
      "Epoch 39/50\n",
      " - 137s - loss: 0.4306 - acc: 0.7974 - val_loss: 0.3302 - val_acc: 0.8700\n",
      "Epoch 40/50\n",
      " - 136s - loss: 0.4174 - acc: 0.8014 - val_loss: 0.3318 - val_acc: 0.8640\n",
      "Epoch 41/50\n",
      " - 136s - loss: 0.4101 - acc: 0.8094 - val_loss: 0.3189 - val_acc: 0.8640\n",
      "Epoch 42/50\n",
      " - 137s - loss: 0.4047 - acc: 0.8074 - val_loss: 0.3091 - val_acc: 0.8800\n",
      "Epoch 43/50\n",
      " - 139s - loss: 0.4027 - acc: 0.8130 - val_loss: 0.3097 - val_acc: 0.8770\n",
      "Epoch 44/50\n",
      " - 138s - loss: 0.3993 - acc: 0.8158 - val_loss: 0.2959 - val_acc: 0.8850\n",
      "Epoch 45/50\n",
      " - 131s - loss: 0.3851 - acc: 0.8252 - val_loss: 0.2884 - val_acc: 0.8880\n",
      "Epoch 46/50\n",
      " - 132s - loss: 0.3875 - acc: 0.8242 - val_loss: 0.2708 - val_acc: 0.9040\n",
      "Epoch 47/50\n",
      " - 140s - loss: 0.3850 - acc: 0.8240 - val_loss: 0.2720 - val_acc: 0.9010\n",
      "Epoch 48/50\n",
      " - 141s - loss: 0.3815 - acc: 0.8214 - val_loss: 0.2690 - val_acc: 0.8920\n",
      "Epoch 49/50\n",
      " - 138s - loss: 0.3698 - acc: 0.8342 - val_loss: 0.2510 - val_acc: 0.9150\n",
      "Epoch 50/50\n",
      " - 137s - loss: 0.3664 - acc: 0.8310 - val_loss: 0.2461 - val_acc: 0.9140\n"
     ]
    }
   ],
   "source": [
    "\"\"\"\n",
    "This code below is training the model-1\n",
    "\"\"\"\n",
    "\n",
    "batch_size = 32\n",
    "model_1_train = model_1.fit(X, Y, epochs = 50, batch_size=batch_size, \n",
    "                          validation_data=(X_test, Y_test), verbose = 2)"
   ]
  },
  {
   "cell_type": "code",
   "execution_count": 15,
   "metadata": {},
   "outputs": [
    {
     "data": {
      "image/png": "[encoded data removed]",
      "text/plain": [
       "<Figure size 432x288 with 1 Axes>"
      ]
     },
     "metadata": {
      "needs_background": "light"
     },
     "output_type": "display_data"
    },
    {
     "data": {
      "image/png": "[encoded data removed]",
      "text/plain": [
       "<Figure size 432x288 with 1 Axes>"
      ]
     },
     "metadata": {
      "needs_background": "light"
     },
     "output_type": "display_data"
    }
   ],
   "source": [
    "\"\"\"\n",
    "Code below plots the resutls from the training using the matplot.\n",
    "\"\"\"\n",
    "\n",
    "acc = model_1_train.history['acc']\n",
    "val_acc = model_1_train.history['val_acc']\n",
    "loss = model_1_train.history['loss']\n",
    "val_loss = model_1_train.history['val_loss']\n",
    "\n",
    "epochs = range(1, len(acc)+1)\n",
    "\n",
    "plt.plot(epochs, acc, 'g', label='Model 1 - Training accuracy')\n",
    "plt.plot(epochs, val_acc, 'r', label='Model 1 - Validation accuracy')\n",
    "plt.title('Model 1 - Training and validation accuracy')\n",
    "plt.legend()\n",
    "\n",
    "plt.figure()\n",
    "\n",
    "plt.plot(epochs, loss, 'g', label='Model 1 - Training loss')\n",
    "plt.plot(epochs, val_loss, 'r', label='Model 1 - Validation loss')\n",
    "plt.title('Model 1 - Training and validation loss')\n",
    "plt.legend()\n",
    "\n",
    "plt.show()"
   ]
  },
  {
   "cell_type": "code",
   "execution_count": 16,
   "metadata": {},
   "outputs": [
    {
     "name": "stdout",
     "output_type": "stream",
     "text": [
      "Train on 5000 samples, validate on 1000 samples\n",
      "Epoch 1/20\n",
      " - 334s - loss: 0.5972 - accuracy: 0.6782 - val_loss: 0.5614 - val_accuracy: 0.7020\n",
      "Epoch 2/20\n",
      " - 325s - loss: 0.5555 - accuracy: 0.7030 - val_loss: 0.5475 - val_accuracy: 0.7050\n",
      "Epoch 3/20\n",
      " - 313s - loss: 0.5473 - accuracy: 0.7084 - val_loss: 0.5290 - val_accuracy: 0.7200\n",
      "Epoch 4/20\n",
      " - 312s - loss: 0.5721 - accuracy: 0.6912 - val_loss: 0.5397 - val_accuracy: 0.7170\n",
      "Epoch 5/20\n",
      " - 311s - loss: 0.5498 - accuracy: 0.7030 - val_loss: 0.5320 - val_accuracy: 0.7130\n",
      "Epoch 6/20\n",
      " - 312s - loss: 0.5415 - accuracy: 0.7146 - val_loss: 0.5231 - val_accuracy: 0.7280\n",
      "Epoch 7/20\n",
      " - 312s - loss: 0.5333 - accuracy: 0.7192 - val_loss: 0.5253 - val_accuracy: 0.7350\n",
      "Epoch 8/20\n",
      " - 312s - loss: 0.5287 - accuracy: 0.7194 - val_loss: 0.5122 - val_accuracy: 0.7380\n",
      "Epoch 9/20\n",
      " - 311s - loss: 0.5224 - accuracy: 0.7296 - val_loss: 0.5382 - val_accuracy: 0.7150\n",
      "Epoch 10/20\n",
      " - 310s - loss: 0.5177 - accuracy: 0.7376 - val_loss: 0.4977 - val_accuracy: 0.7720\n",
      "Epoch 11/20\n",
      " - 311s - loss: 0.5141 - accuracy: 0.7366 - val_loss: 0.4862 - val_accuracy: 0.7450\n",
      "Epoch 12/20\n",
      " - 310s - loss: 0.5075 - accuracy: 0.7424 - val_loss: 0.4801 - val_accuracy: 0.7660\n",
      "Epoch 13/20\n",
      " - 310s - loss: 0.4980 - accuracy: 0.7446 - val_loss: 0.4681 - val_accuracy: 0.7710\n",
      "Epoch 14/20\n",
      " - 310s - loss: 0.4954 - accuracy: 0.7440 - val_loss: 0.4972 - val_accuracy: 0.7450\n",
      "Epoch 15/20\n",
      " - 311s - loss: 0.4901 - accuracy: 0.7524 - val_loss: 0.4449 - val_accuracy: 0.7890\n",
      "Epoch 16/20\n",
      " - 311s - loss: 0.4764 - accuracy: 0.7656 - val_loss: 0.4350 - val_accuracy: 0.7920\n",
      "Epoch 17/20\n",
      " - 310s - loss: 0.4804 - accuracy: 0.7558 - val_loss: 0.4490 - val_accuracy: 0.7810\n",
      "Epoch 18/20\n",
      " - 310s - loss: 0.4784 - accuracy: 0.7642 - val_loss: 0.4163 - val_accuracy: 0.8010\n",
      "Epoch 19/20\n",
      " - 309s - loss: 0.4578 - accuracy: 0.7704 - val_loss: 0.4065 - val_accuracy: 0.8250\n",
      "Epoch 20/20\n",
      " - 310s - loss: 0.4435 - accuracy: 0.7914 - val_loss: 0.3864 - val_accuracy: 0.8280\n"
     ]
    }
   ],
   "source": [
    "\"\"\"\n",
    "Code below is uesd for training the model-2.\n",
    "\"\"\"\n",
    "\n",
    "model_2_train = model_2.fit([X, X_cntx], Y, epochs = 20, batch_size=batch_size, \n",
    "            validation_data=([X_test, X_cntx_test], Y_test), verbose = 2)"
   ]
  },
  {
   "cell_type": "code",
   "execution_count": 17,
   "metadata": {},
   "outputs": [
    {
     "data": {
      "image/png": "[encoded data removed]",
      "text/plain": [
       "<Figure size 432x288 with 1 Axes>"
      ]
     },
     "metadata": {
      "needs_background": "light"
     },
     "output_type": "display_data"
    },
    {
     "data": {
      "image/png": "[encoded data removed]",
      "text/plain": [
       "<Figure size 432x288 with 1 Axes>"
      ]
     },
     "metadata": {
      "needs_background": "light"
     },
     "output_type": "display_data"
    }
   ],
   "source": [
    "\"\"\"\n",
    "Code below plots the resutls from the training using the matplot.\n",
    "\"\"\"\n",
    "\n",
    "acc = model_2_train.history['accuracy']\n",
    "val_acc = model_2_train.history['val_accuracy']\n",
    "loss = model_2_train.history['loss']\n",
    "val_loss = model_2_train.history['val_loss']\n",
    "\n",
    "epochs = range(1, len(acc)+1)\n",
    "\n",
    "plt.plot(epochs, acc, 'g', label='Model 2 - Training accuracy')\n",
    "plt.plot(epochs, val_acc, 'r', label='Model 2 - Validation accuracy')\n",
    "plt.title('Model 2 - Training and validation accuracy')\n",
    "plt.legend()\n",
    "\n",
    "plt.figure()\n",
    "\n",
    "plt.plot(epochs, loss, 'g', label='Model 2 - Training loss')\n",
    "plt.plot(epochs, val_loss, 'r', label='Model 2 - Validation loss')\n",
    "plt.title('Model 2 - Training and validation loss')\n",
    "plt.legend()\n",
    "\n",
    "plt.show()"
   ]
  },
  {
   "cell_type": "code",
   "execution_count": 18,
   "metadata": {},
   "outputs": [
    {
     "name": "stdout",
     "output_type": "stream",
     "text": [
      "1800\n",
      "200\n"
     ]
    }
   ],
   "source": [
    "\"\"\"\n",
    "Code below is now used for preparing the \"test\" data-set for prediction. This builds the vector for test dataset\n",
    "as we did for the training data-set.\n",
    "\"\"\"\n",
    "\n",
    "Z = tokenizer.texts_to_sequences(pred_data['response'].values)\n",
    "Z = pad_sequences(Z, vec_len)\n",
    "Z_cntx = tokenizer.texts_to_sequences(pred_data['cntx'].values)\n",
    "Z_cntx = pad_sequences(Z_cntx, 250)\n",
    "\n",
    "print(len(Z))\n",
    "print(len(Z[0]))\n"
   ]
  },
  {
   "cell_type": "code",
   "execution_count": 19,
   "metadata": {},
   "outputs": [],
   "source": [
    "\"\"\"\n",
    "Code below predicts the restuls for test data set using model_1 and model_2\n",
    "\"\"\"\n",
    "Z_label = model_1.predict(Z)\n",
    "Z_cntx_label = model_2.predict([Z, Z_cntx])"
   ]
  },
  {
   "cell_type": "code",
   "execution_count": 20,
   "metadata": {},
   "outputs": [],
   "source": [
    "\"\"\"\n",
    "Code below combines the results from model_1 and model_2 and labes the data into SARCASM or NOT_SARCASM using threashold.\n",
    "Note that I am using threashold as 0.5 (range 0 to 2.0) instead of uisng 1.0 as threashold. This has imporved the \n",
    "scoring for me that's the reason of using 0.5 as threashold.\n",
    "\"\"\"\n",
    "\n",
    "pred_data[\"score\"] = Z_label\n",
    "pred_data[\"cntx_score\"] = Z_cntx_label\n",
    "pred_data[\"total_score\"] = pred_data[\"score\"] + pred_data[\"cntx_score\"]\n",
    "\n",
    "pred_data['pred'] =pred_data[\"total_score\"].apply(lambda x: 'SARCASM' if (x >= 0.5) else 'NOT_SARCASM')"
   ]
  },
  {
   "cell_type": "code",
   "execution_count": 21,
   "metadata": {},
   "outputs": [],
   "source": [
    "\"\"\"\n",
    "Finally code below is used exporting the predicted data into \"answer.txt\" file.\n",
    "\"\"\"\n",
    "\n",
    "export_data = pred_data[[\"id\", \"pred\"]]\n",
    "export_data.to_csv(path_or_buf='./answer.txt', sep=',',index=False)"
   ]
  },
  {
   "cell_type": "code",
   "execution_count": null,
   "metadata": {},
   "outputs": [],
   "source": []
  }
 ],
 "metadata": {
  "kernelspec": {
   "display_name": "Python 3",
   "language": "python",
   "name": "python3"
  },
  "language_info": {
   "codemirror_mode": {
    "name": "ipython",
    "version": 3
   },
   "file_extension": ".py",
   "mimetype": "text/x-python",
   "name": "python",
   "nbconvert_exporter": "python",
   "pygments_lexer": "ipython3",
   "version": "3.7.4"
  }
 },
 "nbformat": 4,
 "nbformat_minor": 2
}
